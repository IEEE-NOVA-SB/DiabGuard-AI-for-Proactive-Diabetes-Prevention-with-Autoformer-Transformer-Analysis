{
 "cells": [
  {
   "cell_type": "markdown",
   "id": "9e70a67d-3b74-4a46-a374-126c5498ae69",
   "metadata": {},
   "source": [
    "## Tarefas\n",
    "\n",
    "### pré processar dataset e ver como entra no modelo bem\n",
    "\n",
    "### como usar optuna ou outra forma de hypterparameter optimization para o modelo"
   ]
  },
  {
   "cell_type": "markdown",
   "id": "bb9379e5-00fe-417b-90cb-2c7558ad0f44",
   "metadata": {},
   "source": [
    "Tokenizing a dataset, especially for tasks beyond traditional natural language processing (NLP), such as time series prediction or processing numerical and categorical data, requires a tailored approach. The \"best\" way to tokenize such data depends on the specific characteristics of your dataset and the model you plan to use. Here are several strategies you can consider, each with its own advantages:\n",
    "1. For Numerical Data\n",
    "\n",
    "    Binning/Quantization: This involves dividing the range of numerical values into bins and assigning each bin a unique token. It's particularly useful for continuous data, helping to reduce the model's complexity by categorizing similar values.\n",
    "\n",
    "    Normalization and Discretization: Normalize the data to a specific range (e.g., 0 to 1) and then discretize it into fixed intervals. Each interval can then be represented as a token. This approach maintains relative differences between values.\n",
    "\n",
    "    Direct Encoding (with Caution): For numerical values that already take on a limited set of integers, you might consider using these directly as tokens. However, this can be challenging for models to interpret meaningfully and is generally less common.\n",
    "\n",
    "2. For Categorical Data\n",
    "\n",
    "    One-hot Encoding: Convert each categorical value to a binary vector with a 1 in the position corresponding to the category. While not directly a \"tokenization\" method, it's a form of encoding that can be used prior to tokenization for models that require numerical input.\n",
    "\n",
    "    Integer Encoding: Assign each unique category a unique integer. This is a straightforward form of tokenization but requires careful handling to avoid implying ordinal relationships where none exist.\n",
    "\n",
    "3. For Mixed Data Types\n",
    "\n",
    "    Custom Tokenization: Develop a tokenization scheme that handles different types of data within your dataset, assigning unique tokens to different categories, bins, or normalized values across your features.\n",
    "\n",
    "    Embedding Layers: Use embedding layers to map your tokenized numerical and categorical data to dense vectors of fixed size. This approach is particularly useful in deep learning models where embeddings can capture more nuanced relationships between tokens.\n",
    "\n",
    "4. Advanced Techniques\n",
    "\n",
    "    Learned Embeddings: Instead of manually tokenizing and then applying a static embedding, some models can learn the most effective representations during training. This can be particularly powerful for complex datasets.\n",
    "\n",
    "    Autoencoder-Based: For high-dimensional data, an autoencoder can learn a compressed representation of the data, which could then be discretized and used as tokens.\n",
    "\n",
    "Choosing the Right Approach\n",
    "\n",
    "    Understand Your Data: Analyze the characteristics of your data (e.g., range of numerical values, number of categories, presence of ordinal relationships) to choose the most appropriate tokenization method.\n",
    "\n",
    "    Consider Your Model: Different models may require or benefit from specific types of input. For example, transformer-based models typically work with integer tokens and may benefit from embeddings, while models designed for continuous input might handle normalized numerical values more directly.\n",
    "\n",
    "    Experiment and Validate: Often, the best approach is found through experimentation. Try different tokenization methods and evaluate your model's performance to find the most effective strategy.\n",
    "\n",
    "\n",
    "\n",
    "--------\n",
    "\n",
    "\n",
    "\n",
    "Yes, each value in a column can be represented as a token, but this process requires careful consideration of how the data is encoded and prepared for the model. Tokenization typically refers to converting text data into numerical tokens that a machine learning model can understand. However, when dealing with numerical or non-textual data, such as values in a column of a time series dataset, the concept of \"tokenization\" can be adapted to suit the data type.\n",
    "\n",
    "For non-textual data, tokenization might involve different strategies, such as:\n",
    "\n",
    "    Discretization: Numerical values can be discretized into bins, and each bin can be represented as a token. This approach is useful for continuous data, allowing the model to treat each bin as a categorical value.\n",
    "\n",
    "    Categorical Encoding: If the values in a column are categorical (including discretized numerical values), each unique category can be assigned a unique token. This is straightforward for inherently categorical data.\n",
    "\n",
    "    Embedding Numerical Values: For models that accept numerical input directly (e.g., traditional neural networks for time series prediction), each numerical value could be considered an \"implicit token\" that is fed into an embedding layer. This is not tokenization in the traditional sense but rather a method of preparing numerical data for model input.\n",
    "\n",
    "    Custom Encoding Schemes: Depending on the nature of the data and the model, custom encoding schemes may be developed. For example, in time series data, patterns or sequences of values might be encoded into tokens that represent specific states or transitions.\n",
    "\n",
    "For the case of using AutoModelForCausalLM with time series data, if you wish to treat each value as a token, you would need to:\n",
    "\n",
    "    Encode the Values: Convert each numerical value into a discrete token. This could involve mapping each unique value to a unique integer or discretizing the range of values and mapping each range to a unique integer.\n",
    "\n",
    "    Use an Appropriate Tokenizer: Although the AutoTokenizer is designed for text data, you would need to ensure that it can handle your encoded values appropriately. This might involve custom preprocessing steps to ensure that the tokenizer interprets your numerical tokens correctly.\n",
    "\n",
    "    Consider Model Compatibility: Ensure that the model can interpret and learn from the encoded tokens effectively. Since causal language models are designed for text, using them for numerical time series data in this way is unconventional and may require experimentation and adjustment to achieve good results.\n",
    "\n",
    "It's important to note that treating each value as a token is more common in text processing. When applying this concept to numerical data for a model originally designed for natural language processing (NLP), it's essential to carefully consider how the data is represented and whether this approach aligns with the model's capabilities and the goals of your analysis."
   ]
  },
  {
   "cell_type": "code",
   "execution_count": null,
   "id": "1f1133fc-2531-4102-bfce-89a213f143e5",
   "metadata": {},
   "outputs": [],
   "source": [
    "import torch\n",
    "import pytorch_lightning as pl\n",
    "from torch.utils.data import Dataset, DataLoader\n",
    "from transformers import AutoModelForCausalLM, AutoTokenizer\n",
    "\n",
    "from ucimlrepo import fetch_ucirepo \n",
    "import optuna"
   ]
  },
  {
   "cell_type": "code",
   "execution_count": null,
   "id": "6e670a88-79c6-4acd-9142-d78660eaa339",
   "metadata": {
    "scrolled": true
   },
   "outputs": [],
   "source": [
    "# fetch dataset \n",
    "diabetes_130_us_hospitals_for_years_1999_2008 = fetch_ucirepo(id=296) \n",
    "  \n",
    "# data (as pandas dataframes) \n",
    "X = diabetes_130_us_hospitals_for_years_1999_2008.data.features \n",
    "y = diabetes_130_us_hospitals_for_years_1999_2008.data.targets \n",
    "\n",
    "print(\"Number of features:\" + str(X.shape[1]))\n",
    "\n",
    "print(X.head(10))\n",
    "\n",
    "print(\"Number of targets:\" + str(y.shape[1]))\n",
    "\n",
    "print(y.head(10))"
   ]
  },
  {
   "cell_type": "code",
   "execution_count": null,
   "id": "75cc2e61-6783-4292-8ca0-267aa974eda9",
   "metadata": {},
   "outputs": [],
   "source": [
    "for column in X.columns:\n",
    "    unique_values = X[column].unique()\n",
    "    print(f\"Unique values in column '{column}': {unique_values} \\n\")"
   ]
  },
  {
   "cell_type": "code",
   "execution_count": null,
   "id": "cdfd52c2-c410-485b-a7bb-2e8859076c2d",
   "metadata": {},
   "outputs": [],
   "source": [
    "class TimeSeriesDataset(Dataset):\n",
    "    def __init__(self, sequences, targets):\n",
    "        self.sequences = sequences\n",
    "        self.targets = targets\n",
    "\n",
    "    def __len__(self):\n",
    "        return len(self.sequences)\n",
    "\n",
    "    def __getitem__(self, idx):\n",
    "        return self.sequences[idx], self.targets[idx]"
   ]
  },
  {
   "cell_type": "code",
   "execution_count": null,
   "id": "cfbb5769-78f0-43d9-a32e-8fe80ab8077c",
   "metadata": {},
   "outputs": [],
   "source": [
    "class AutoformerTimeSeriesPredictor(pl.LightningModule):\n",
    "    def __init__(self, model_name='facebook/autoformer', sequence_length=128):\n",
    "        super().__init__()\n",
    "        self.model = AutoModelForCausalLM.from_pretrained(model_name)\n",
    "        self.tokenizer = AutoTokenizer.from_pretrained(model_name)\n",
    "        self.sequence_length = sequence_length\n",
    "\n",
    "    def forward(self, input_ids):\n",
    "        outputs = self.model(input_ids=input_ids)\n",
    "        return outputs.logits\n",
    "\n",
    "    def training_step(self, batch, batch_idx):\n",
    "        sequences, targets = batch\n",
    "        outputs = self(sequences)\n",
    "        loss = torch.nn.functional.mse_loss(outputs, targets)\n",
    "        self.log('train_loss', loss)\n",
    "        return loss\n",
    "\n",
    "    def configure_optimizers(self):\n",
    "        return torch.optim.Adam(self.parameters(), lr=0.001)"
   ]
  },
  {
   "cell_type": "code",
   "execution_count": null,
   "id": "e62155d0-66c7-4a3e-9a2f-85ade3b6900d",
   "metadata": {},
   "outputs": [],
   "source": [
    "dataset = TimeSeriesDataset(sequences, targets)\n",
    "train_loader = DataLoader(dataset, batch_size=32, shuffle=True)\n",
    "\n",
    "model = AutoformerTimeSeriesPredictor()\n",
    "\n",
    "trainer = pl.Trainer(max_epochs=10)\n",
    "trainer.fit(model, train_loader)"
   ]
  }
 ],
 "metadata": {
  "kernelspec": {
   "display_name": "env1",
   "language": "python",
   "name": "myenv"
  },
  "language_info": {
   "codemirror_mode": {
    "name": "ipython",
    "version": 3
   },
   "file_extension": ".py",
   "mimetype": "text/x-python",
   "name": "python",
   "nbconvert_exporter": "python",
   "pygments_lexer": "ipython3",
   "version": "3.10.12"
  }
 },
 "nbformat": 4,
 "nbformat_minor": 5
}
